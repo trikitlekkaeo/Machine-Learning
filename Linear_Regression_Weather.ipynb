{
  "nbformat": 4,
  "nbformat_minor": 0,
  "metadata": {
    "colab": {
      "name": "Linear Regression_Weather.ipynb",
      "provenance": [],
      "collapsed_sections": [],
      "authorship_tag": "ABX9TyOhuGTQyxNQJT62/JkCFBrf",
      "include_colab_link": true
    },
    "kernelspec": {
      "name": "python3",
      "display_name": "Python 3"
    },
    "language_info": {
      "name": "python"
    }
  },
  "cells": [
    {
      "cell_type": "markdown",
      "metadata": {
        "id": "view-in-github",
        "colab_type": "text"
      },
      "source": [
        "<a href=\"https://colab.research.google.com/github/trikitlekkaeo/Machine-Learning/blob/main/Linear_Regression_Weather.ipynb\" target=\"_parent\"><img src=\"https://colab.research.google.com/assets/colab-badge.svg\" alt=\"Open In Colab\"/></a>"
      ]
    },
    {
      "cell_type": "code",
      "execution_count": 23,
      "metadata": {
        "id": "OxS138mRsdCx"
      },
      "outputs": [],
      "source": [
        "import pandas as pd\n",
        "import numpy as np\n",
        "import matplotlib.pyplot as plt\n",
        "from sklearn.model_selection import train_test_split\n",
        "from sklearn.linear_model import LinearRegression\n",
        "from sklearn import metrics #สำหรับวัดประสิทธิภาพโมเดล"
      ]
    },
    {
      "cell_type": "code",
      "source": [
        "dataset=pd.read_csv(\"https://raw.githubusercontent.com/kongruksiamza/MachineLearning/master/Linear%20Regression/Weather.csv\")"
      ],
      "metadata": {
        "colab": {
          "base_uri": "https://localhost:8080/"
        },
        "id": "dghi1Boys5RY",
        "outputId": "8a622ad2-2455-4a1f-b4d5-027a545b0200"
      },
      "execution_count": 4,
      "outputs": [
        {
          "output_type": "stream",
          "name": "stderr",
          "text": [
            "/usr/local/lib/python3.7/dist-packages/IPython/core/interactiveshell.py:2882: DtypeWarning: Columns (7,8,18,25) have mixed types.Specify dtype option on import or set low_memory=False.\n",
            "  exec(code_obj, self.user_global_ns, self.user_ns)\n"
          ]
        }
      ]
    },
    {
      "cell_type": "code",
      "source": [
        "print(dataset.shape)"
      ],
      "metadata": {
        "colab": {
          "base_uri": "https://localhost:8080/"
        },
        "id": "AsOWRzS-tSNt",
        "outputId": "e41a745c-4d55-404a-a2c5-a332acdf4e0c"
      },
      "execution_count": 6,
      "outputs": [
        {
          "output_type": "stream",
          "name": "stdout",
          "text": [
            "(119040, 31)\n"
          ]
        }
      ]
    },
    {
      "cell_type": "code",
      "source": [
        "dataset.plot(x='MinTemp',y='MaxTemp',style=\"o\") #style คือตัว o = จุด , x กับ y ต้องจำชื่อ Column\n",
        "plt.title('Min & Max Temp')\n",
        "plt.xlabel(\"Mintemp\")\n",
        "plt.ylabel(\"Maxtemp\")\n",
        "plt.show()"
      ],
      "metadata": {
        "colab": {
          "base_uri": "https://localhost:8080/",
          "height": 295
        },
        "id": "9X60TTExtedI",
        "outputId": "4d8c32c2-7225-40ce-a8c2-980cada42459"
      },
      "execution_count": 9,
      "outputs": [
        {
          "output_type": "display_data",
          "data": {
            "text/plain": [
              "<Figure size 432x288 with 1 Axes>"
            ],
            "image/png": "[encoded data removed]"
          },
          "metadata": {
            "needs_background": "light"
          }
        }
      ]
    },
    {
      "cell_type": "code",
      "source": [
        "print(dataset.describe())"
      ],
      "metadata": {
        "colab": {
          "base_uri": "https://localhost:8080/"
        },
        "id": "eaBXJ7QOt9n9",
        "outputId": "57493856-e906-4690-c8a9-14e2f0e409b8"
      },
      "execution_count": 10,
      "outputs": [
        {
          "output_type": "stream",
          "name": "stdout",
          "text": [
            "                 STA  WindGustSpd        MaxTemp        MinTemp  \\\n",
            "count  119040.000000   532.000000  119040.000000  119040.000000   \n",
            "mean    29659.435795    37.774534      27.045111      17.789511   \n",
            "std     20953.209402    10.297808       8.717817       8.334572   \n",
            "min     10001.000000    18.520000     -33.333333     -38.333333   \n",
            "25%     11801.000000    29.632000      25.555556      15.000000   \n",
            "50%     22508.000000    37.040000      29.444444      21.111111   \n",
            "75%     33501.000000    43.059000      31.666667      23.333333   \n",
            "max     82506.000000    75.932000      50.000000      34.444444   \n",
            "\n",
            "            MeanTemp             YR             MO             DA          DR  \\\n",
            "count  119040.000000  119040.000000  119040.000000  119040.000000  533.000000   \n",
            "mean       22.411631      43.805284       6.726016      15.797530   26.998124   \n",
            "std         8.297982       1.136718       3.425561       8.794541   15.221732   \n",
            "min       -35.555556      40.000000       1.000000       1.000000    2.000000   \n",
            "25%        20.555556      43.000000       4.000000       8.000000   11.000000   \n",
            "50%        25.555556      44.000000       7.000000      16.000000   32.000000   \n",
            "75%        27.222222      45.000000      10.000000      23.000000   34.000000   \n",
            "max        40.000000      45.000000      12.000000      31.000000   78.000000   \n",
            "\n",
            "              SPD  ...   FT   FB  FTI  ITH         PGT  SD3  RHX  RHN  RVG  \\\n",
            "count  532.000000  ...  0.0  0.0  0.0  0.0  525.000000  0.0  0.0  0.0  0.0   \n",
            "mean    20.396617  ...  NaN  NaN  NaN  NaN   12.085333  NaN  NaN  NaN  NaN   \n",
            "std      5.560371  ...  NaN  NaN  NaN  NaN    5.731328  NaN  NaN  NaN  NaN   \n",
            "min     10.000000  ...  NaN  NaN  NaN  NaN    0.000000  NaN  NaN  NaN  NaN   \n",
            "25%     16.000000  ...  NaN  NaN  NaN  NaN    8.500000  NaN  NaN  NaN  NaN   \n",
            "50%     20.000000  ...  NaN  NaN  NaN  NaN   11.600000  NaN  NaN  NaN  NaN   \n",
            "75%     23.250000  ...  NaN  NaN  NaN  NaN   15.000000  NaN  NaN  NaN  NaN   \n",
            "max     41.000000  ...  NaN  NaN  NaN  NaN   23.900000  NaN  NaN  NaN  NaN   \n",
            "\n",
            "       WTE  \n",
            "count  0.0  \n",
            "mean   NaN  \n",
            "std    NaN  \n",
            "min    NaN  \n",
            "25%    NaN  \n",
            "50%    NaN  \n",
            "75%    NaN  \n",
            "max    NaN  \n",
            "\n",
            "[8 rows x 24 columns]\n"
          ]
        }
      ]
    },
    {
      "cell_type": "code",
      "source": [
        "#Train & Test set\n",
        "x= dataset['MinTemp'].values.reshape(-1,1) #ทำAray 2 มิติ\n",
        "y= dataset['MaxTemp'].values.reshape(-1,1)\n",
        "\n",
        "#train 80% test 20%\n",
        "x_train,x_test,y_train,y_test = train_test_split(x,y,test_size=0.2,random_state=0)\n",
        "\n",
        "\n",
        "#training\n",
        "model=LinearRegression()\n",
        "model.fit(x_train,y_train)\n",
        "\n",
        "#Test Model\n",
        "y_pred = model.predict(x_test)\n",
        "\n",
        "plt.scatter(x_test,y_test)\n",
        "plt.plot(x_test,y_pred,color=\"red\",linewidth=2)\n",
        "plt.show()"
      ],
      "metadata": {
        "colab": {
          "base_uri": "https://localhost:8080/",
          "height": 265
        },
        "id": "fQDu8_-RuTUa",
        "outputId": "aadb4971-2b2a-498c-f5c9-d9d8f51c0655"
      },
      "execution_count": 14,
      "outputs": [
        {
          "output_type": "display_data",
          "data": {
            "text/plain": [
              "<Figure size 432x288 with 1 Axes>"
            ],
            "image/png": "[encoded data removed]"
          },
          "metadata": {
            "needs_background": "light"
          }
        }
      ]
    },
    {
      "cell_type": "code",
      "source": [
        "#Compare true data vs predict data\n",
        "#y_pred คือผลการทำนายผลลัพธ์จากโมเดล\n",
        "#y_test คือ ข้อมูลจริงที่ใช้ทดสอบการทำนายผลโมเดล\n",
        "df = pd.DataFrame({'Actually':y_test.flatten(),'Predicted':y_pred.flatten()}) #แปลงข้อมูลเป็น 1 มิติ\n",
        "\n",
        "print(df.head())\n",
        "print(df.shape)"
      ],
      "metadata": {
        "colab": {
          "base_uri": "https://localhost:8080/"
        },
        "id": "I9ZB-KOyv65i",
        "outputId": "2a669113-057b-4557-dea8-3d05ddc1c2a6"
      },
      "execution_count": 21,
      "outputs": [
        {
          "output_type": "stream",
          "name": "stdout",
          "text": [
            "    Actually  Predicted\n",
            "0  28.888889  33.670351\n",
            "1  31.111111  30.091251\n",
            "2  27.222222  26.512151\n",
            "3  28.888889  31.113851\n",
            "4  23.333333  15.774852\n",
            "(23808, 2)\n"
          ]
        }
      ]
    },
    {
      "cell_type": "code",
      "source": [
        "df1 = df.head(20)\n",
        "df1.plot(kind=\"bar\",figsize=(16,10))\n",
        "plt.show()"
      ],
      "metadata": {
        "colab": {
          "base_uri": "https://localhost:8080/",
          "height": 593
        },
        "id": "qzwa1pcjyTgZ",
        "outputId": "e75dcf80-8143-4b88-f1fb-247a00443ff8"
      },
      "execution_count": 19,
      "outputs": [
        {
          "output_type": "display_data",
          "data": {
            "text/plain": [
              "<Figure size 1152x720 with 1 Axes>"
            ],
            "image/png": "[encoded data removed]"
          },
          "metadata": {
            "needs_background": "light"
          }
        }
      ]
    },
    {
      "cell_type": "code",
      "source": [
        "#วัดผล\n",
        "#ถ้าค่าเข้าใกล้ 0 จะ error น้อย\n",
        "#MAE y_pred ต่างกับ y_test เท่าไหร่\n",
        "#MSE y_pred ต่างจาก y_test เท่าไหร่\n",
        "\n",
        "\n",
        "print(\"MAE = \",metrics.mean_absolute_error(y_test,y_pred))\n",
        "print(\"MSE = \",metrics.mean_squared_error(y_test,y_pred))\n",
        "print(\"RMAE = \",np.sqrt(metrics.mean_squared_error(y_test,y_pred)))\n",
        "print(\"Score = \",metrics.r2_score(y_test,y_pred)) #ค่าความแม่นยำ"
      ],
      "metadata": {
        "colab": {
          "base_uri": "https://localhost:8080/"
        },
        "id": "8b77J2eiyqTx",
        "outputId": "f98da548-fd48-4424-b3c0-4431e2c4753e"
      },
      "execution_count": 29,
      "outputs": [
        {
          "output_type": "stream",
          "name": "stdout",
          "text": [
            "MAE =  3.19932917837853\n",
            "MSE =  17.631568097568447\n",
            "RMAE =  4.198996082109204\n",
            "Score =  0.7670218843587764\n"
          ]
        }
      ]
    },
    {
      "cell_type": "code",
      "source": [
        ""
      ],
      "metadata": {
        "id": "fpfAP_E70d_E"
      },
      "execution_count": null,
      "outputs": []
    }
  ]
}