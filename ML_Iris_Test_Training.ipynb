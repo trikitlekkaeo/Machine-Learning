{
  "nbformat": 4,
  "nbformat_minor": 0,
  "metadata": {
    "colab": {
      "name": "ML_Iris_Test_Training.ipynb",
      "provenance": [],
      "authorship_tag": "ABX9TyODw7O53NN8XFVrQpKcgqd0",
      "include_colab_link": true
    },
    "kernelspec": {
      "name": "python3",
      "display_name": "Python 3"
    },
    "language_info": {
      "name": "python"
    }
  },
  "cells": [
    {
      "cell_type": "markdown",
      "metadata": {
        "id": "view-in-github",
        "colab_type": "text"
      },
      "source": [
        "<a href=\"https://colab.research.google.com/github/trikitlekkaeo/Machine-Learning/blob/main/ML_Iris_Test_Training.ipynb\" target=\"_parent\"><img src=\"https://colab.research.google.com/assets/colab-badge.svg\" alt=\"Open In Colab\"/></a>"
      ]
    },
    {
      "cell_type": "code",
      "execution_count": 5,
      "metadata": {
        "id": "RQRculmHJeAt"
      },
      "outputs": [],
      "source": [
        "from sklearn.datasets import load_iris\n",
        "from sklearn.model_selection import train_test_split"
      ]
    },
    {
      "cell_type": "code",
      "source": [
        "iris_dataset = load_iris()"
      ],
      "metadata": {
        "id": "K5piXCKuJ2d7"
      },
      "execution_count": 3,
      "outputs": []
    },
    {
      "cell_type": "code",
      "source": [
        "print(iris_dataset.data.shape)"
      ],
      "metadata": {
        "colab": {
          "base_uri": "https://localhost:8080/"
        },
        "id": "1n7ozimgKAQo",
        "outputId": "416f0214-c455-4722-850c-88379ef78c62"
      },
      "execution_count": 4,
      "outputs": [
        {
          "output_type": "stream",
          "name": "stdout",
          "text": [
            "(150, 4)\n"
          ]
        }
      ]
    },
    {
      "cell_type": "code",
      "source": [
        "#75% , 25%\n",
        "#X_train เก็บข้อมูล Training, x_test เก็บข้อมูล Test\n",
        "x_train,x_test,y_train,y_test =train_test_split(iris_dataset['data'],iris_dataset['target'],random_state=0)\n",
        "\n",
        "print(x_train.shape)\n",
        "print(x_test.shape)\n",
        "print(y_train.shape)\n",
        "print(y_test.shape)\n",
        "\n",
        "#150\n",
        "#train 75% = 112\n",
        "#test 25% = 38"
      ],
      "metadata": {
        "colab": {
          "base_uri": "https://localhost:8080/"
        },
        "id": "uS7OnWvIKDvW",
        "outputId": "2c2f488c-ec03-4af0-ae01-5ce3019ac6e3"
      },
      "execution_count": 7,
      "outputs": [
        {
          "output_type": "stream",
          "name": "stdout",
          "text": [
            "(112, 4)\n",
            "(38, 4)\n",
            "(112,)\n",
            "(38,)\n"
          ]
        }
      ]
    },
    {
      "cell_type": "code",
      "source": [
        "x_train,x_test,y_train,y_test =train_test_split(iris_dataset['data'],iris_dataset['target'],test_size=0.2,random_state=0)\n",
        "\n",
        "print(x_train.shape)\n",
        "print(x_test.shape)\n",
        "print(y_train.shape)\n",
        "print(y_test.shape)\n",
        "\n",
        "#150\n",
        "#train 80% = 120\n",
        "#test 20% = 30"
      ],
      "metadata": {
        "colab": {
          "base_uri": "https://localhost:8080/"
        },
        "id": "I-ZD1PTfMboO",
        "outputId": "b1ddf8c0-4859-475f-dcab-7f5276f081fb"
      },
      "execution_count": 9,
      "outputs": [
        {
          "output_type": "stream",
          "name": "stdout",
          "text": [
            "(120, 4)\n",
            "(30, 4)\n",
            "(120,)\n",
            "(30,)\n"
          ]
        }
      ]
    },
    {
      "cell_type": "code",
      "source": [
        ""
      ],
      "metadata": {
        "id": "21Q1t-qbNG2q"
      },
      "execution_count": null,
      "outputs": []
    }
  ]
}